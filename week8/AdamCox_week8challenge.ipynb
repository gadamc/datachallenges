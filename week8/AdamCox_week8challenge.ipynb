{
 "cells": [
  {
   "cell_type": "markdown",
   "metadata": {},
   "source": [
    "# What is black and white and red all over?\n",
    "\n",
    "\n",
    "Does a player's skin tone affect the rate of red cards issued to players in the European football leagues?\n",
    "\n",
    "## Summary\n",
    "\n",
    "In my analysis of the data provided covering all European football leagues as a whole, I find a small amount of evidence for white players being issued red cards at a higer rate than black players. But accurate results require proper sampling of the data set in order to control for numerous factors. My analysis was not done blindly. That is, I obvserved the rate of red cards between cohorts of players for each particular cohort selection methodology as I changed my methodology. A proper study would first consider and settle upon an agreed sampling methodology before a measurement of the rate of red cards was made. \n",
    "\n",
    "\n",
    "### Methodology\n",
    "\n",
    "To calculate this I create a group of \"white\" players and \"black\" players by using the \"rater1\" and \"rater2\" categories. I chose to only select the players that were on either ends of the rater spectrum in order to try to maximize the affect of skin tone influencing the rate of red cards. I also chose only player-referee dyads that had a **single game experience** in order to eliminate referee bias or histories with particular players. The idea behind this choice is that the single player-referee interactions represent a collection of independent experiments testing the rate of red cards versus skin tone. With single game interactions, there should be less historical bias toward players (except for bias due to a player's reputation.)\n",
    "\n",
    "There are significantly more white players in the overall population than black players. From the single-game interaction set, I then collected a sample of white players such that roughly the same number of players from each country and position were equal between the two groups. \n",
    "\n",
    "### Single game dyad\n",
    "\n",
    "Out of a sample of 6940 black players and 7029 white players, where I controlled for the European country in which they played and their position on the field (excluding Goalkeepers), 19 red cards were issued to white players and 32 red cards were issued to black players. The t-statistic for the mean rate of red cards between these two groups was -1.869, with a p-value of 0.062, just barely in support of the null hypthosis of an equal rate of red cards between the groups.\n",
    "\n",
    "```\n",
    "number of redCards black players: 32\n",
    "number of redCards white players: 19\n",
    "number of black players in sample: 6940\n",
    "number of white players in sample: 7029\n",
    "\n",
    "\n",
    "t: -1.8694173237059215\n",
    "p-value: 0.06158568476049414\n",
    "```\n",
    "\n",
    "Due to the random selection of this method, this test should probably be run multiple times to measure a distribution of t-scores in order to get a clearer estimate.\n",
    "\n",
    "\n",
    "### Five Game Dyad\n",
    "\n",
    "Relaxing the maximimum number of games between player-referees to up to five games doubles the overall statistics and would probably still avoid strong biases and histories between players and referees. Allowing for the maximum number of player-referee interactions to five shows no significant increased rate of red cards being issued to either group of players. \n",
    "\n",
    "```\n",
    "number of redCards black players: 107\n",
    "number of redCards white players: 88\n",
    "number of black players in sample: 12215\n",
    "number of white players in sample: 12307\n",
    "\n",
    "\n",
    "t: -1.4042259326234334\n",
    "p-value: 0.1602642478947751\n",
    "```\n",
    "\n",
    "### Other Cards\n",
    "\n",
    "Using the same sample as above (up to five games between player and referee), the number of cards issued were found to be\n",
    "\n",
    "```\n",
    "number of yellowCards black players: 2884\n",
    "number of yellowCards white players: 3013\n",
    "number of black players in sample: 12215\n",
    "number of white players in sample: 12307\n",
    "\n",
    "\n",
    "t: 1.3629607094252565\n",
    "p-value: 0.17290740968002966\n",
    "\n",
    "\n",
    "number of yellowReds black players: 103\n",
    "number of yellowReds white players: 79\n",
    "number of black players in sample: 12215\n",
    "number of white players in sample: 12307\n",
    "\n",
    "\n",
    "t: -1.8365039675739154\n",
    "p-value: 0.0662952541874993\n",
    "```\n",
    "\n",
    "There doesn't appear to be a significant variation in the rate of yellow cards and yellowRed cards handed out to the two groups of players. \n",
    "\n",
    "### Caveats\n",
    "\n",
    "One major caveat this analysis has not considered is total number of games played by an individual player or trying to control for the affect of particular referees in multiple games. That is, there were no limits set on the total number of games played by an individual player. If a particular player tends to pick up more cards just due to the nature of that player's game, that will skew the results. \n"
   ]
  },
  {
   "cell_type": "code",
   "execution_count": 2,
   "metadata": {},
   "outputs": [],
   "source": [
    "import pandas as pd\n",
    "from scipy import stats\n",
    "import seaborn as sns; sns.set()\n",
    "import matplotlib.pyplot as plt\n",
    "%matplotlib inline"
   ]
  },
  {
   "cell_type": "code",
   "execution_count": 3,
   "metadata": {},
   "outputs": [],
   "source": [
    "datafile = 'redcard.csv'"
   ]
  },
  {
   "cell_type": "code",
   "execution_count": 4,
   "metadata": {},
   "outputs": [],
   "source": [
    "df = pd.read_csv(datafile)"
   ]
  },
  {
   "cell_type": "code",
   "execution_count": 5,
   "metadata": {},
   "outputs": [
    {
     "data": {
      "text/html": [
       "<div>\n",
       "<style scoped>\n",
       "    .dataframe tbody tr th:only-of-type {\n",
       "        vertical-align: middle;\n",
       "    }\n",
       "\n",
       "    .dataframe tbody tr th {\n",
       "        vertical-align: top;\n",
       "    }\n",
       "\n",
       "    .dataframe thead th {\n",
       "        text-align: right;\n",
       "    }\n",
       "</style>\n",
       "<table border=\"1\" class=\"dataframe\">\n",
       "  <thead>\n",
       "    <tr style=\"text-align: right;\">\n",
       "      <th></th>\n",
       "      <th>playerShort</th>\n",
       "      <th>player</th>\n",
       "      <th>club</th>\n",
       "      <th>leagueCountry</th>\n",
       "      <th>birthday</th>\n",
       "      <th>height</th>\n",
       "      <th>weight</th>\n",
       "      <th>position</th>\n",
       "      <th>games</th>\n",
       "      <th>victories</th>\n",
       "      <th>...</th>\n",
       "      <th>rater2</th>\n",
       "      <th>refNum</th>\n",
       "      <th>refCountry</th>\n",
       "      <th>Alpha_3</th>\n",
       "      <th>meanIAT</th>\n",
       "      <th>nIAT</th>\n",
       "      <th>seIAT</th>\n",
       "      <th>meanExp</th>\n",
       "      <th>nExp</th>\n",
       "      <th>seExp</th>\n",
       "    </tr>\n",
       "  </thead>\n",
       "  <tbody>\n",
       "    <tr>\n",
       "      <th>0</th>\n",
       "      <td>lucas-wilchez</td>\n",
       "      <td>Lucas Wilchez</td>\n",
       "      <td>Real Zaragoza</td>\n",
       "      <td>Spain</td>\n",
       "      <td>31.08.1983</td>\n",
       "      <td>177.0</td>\n",
       "      <td>72.0</td>\n",
       "      <td>Attacking Midfielder</td>\n",
       "      <td>1</td>\n",
       "      <td>0</td>\n",
       "      <td>...</td>\n",
       "      <td>0.50</td>\n",
       "      <td>1</td>\n",
       "      <td>1</td>\n",
       "      <td>GRC</td>\n",
       "      <td>0.326391</td>\n",
       "      <td>712.0</td>\n",
       "      <td>0.000564</td>\n",
       "      <td>0.396000</td>\n",
       "      <td>750.0</td>\n",
       "      <td>0.002696</td>\n",
       "    </tr>\n",
       "    <tr>\n",
       "      <th>1</th>\n",
       "      <td>john-utaka</td>\n",
       "      <td>John Utaka</td>\n",
       "      <td>Montpellier HSC</td>\n",
       "      <td>France</td>\n",
       "      <td>08.01.1982</td>\n",
       "      <td>179.0</td>\n",
       "      <td>82.0</td>\n",
       "      <td>Right Winger</td>\n",
       "      <td>1</td>\n",
       "      <td>0</td>\n",
       "      <td>...</td>\n",
       "      <td>0.75</td>\n",
       "      <td>2</td>\n",
       "      <td>2</td>\n",
       "      <td>ZMB</td>\n",
       "      <td>0.203375</td>\n",
       "      <td>40.0</td>\n",
       "      <td>0.010875</td>\n",
       "      <td>-0.204082</td>\n",
       "      <td>49.0</td>\n",
       "      <td>0.061504</td>\n",
       "    </tr>\n",
       "    <tr>\n",
       "      <th>2</th>\n",
       "      <td>abdon-prats</td>\n",
       "      <td>Abdón Prats</td>\n",
       "      <td>RCD Mallorca</td>\n",
       "      <td>Spain</td>\n",
       "      <td>17.12.1992</td>\n",
       "      <td>181.0</td>\n",
       "      <td>79.0</td>\n",
       "      <td>NaN</td>\n",
       "      <td>1</td>\n",
       "      <td>0</td>\n",
       "      <td>...</td>\n",
       "      <td>NaN</td>\n",
       "      <td>3</td>\n",
       "      <td>3</td>\n",
       "      <td>ESP</td>\n",
       "      <td>0.369894</td>\n",
       "      <td>1785.0</td>\n",
       "      <td>0.000229</td>\n",
       "      <td>0.588297</td>\n",
       "      <td>1897.0</td>\n",
       "      <td>0.001002</td>\n",
       "    </tr>\n",
       "    <tr>\n",
       "      <th>3</th>\n",
       "      <td>pablo-mari</td>\n",
       "      <td>Pablo Marí</td>\n",
       "      <td>RCD Mallorca</td>\n",
       "      <td>Spain</td>\n",
       "      <td>31.08.1993</td>\n",
       "      <td>191.0</td>\n",
       "      <td>87.0</td>\n",
       "      <td>Center Back</td>\n",
       "      <td>1</td>\n",
       "      <td>1</td>\n",
       "      <td>...</td>\n",
       "      <td>NaN</td>\n",
       "      <td>3</td>\n",
       "      <td>3</td>\n",
       "      <td>ESP</td>\n",
       "      <td>0.369894</td>\n",
       "      <td>1785.0</td>\n",
       "      <td>0.000229</td>\n",
       "      <td>0.588297</td>\n",
       "      <td>1897.0</td>\n",
       "      <td>0.001002</td>\n",
       "    </tr>\n",
       "    <tr>\n",
       "      <th>4</th>\n",
       "      <td>ruben-pena</td>\n",
       "      <td>Rubén Peña</td>\n",
       "      <td>Real Valladolid</td>\n",
       "      <td>Spain</td>\n",
       "      <td>18.07.1991</td>\n",
       "      <td>172.0</td>\n",
       "      <td>70.0</td>\n",
       "      <td>Right Midfielder</td>\n",
       "      <td>1</td>\n",
       "      <td>1</td>\n",
       "      <td>...</td>\n",
       "      <td>NaN</td>\n",
       "      <td>3</td>\n",
       "      <td>3</td>\n",
       "      <td>ESP</td>\n",
       "      <td>0.369894</td>\n",
       "      <td>1785.0</td>\n",
       "      <td>0.000229</td>\n",
       "      <td>0.588297</td>\n",
       "      <td>1897.0</td>\n",
       "      <td>0.001002</td>\n",
       "    </tr>\n",
       "  </tbody>\n",
       "</table>\n",
       "<p>5 rows × 28 columns</p>\n",
       "</div>"
      ],
      "text/plain": [
       "     playerShort         player             club leagueCountry    birthday  \\\n",
       "0  lucas-wilchez  Lucas Wilchez    Real Zaragoza         Spain  31.08.1983   \n",
       "1     john-utaka     John Utaka  Montpellier HSC        France  08.01.1982   \n",
       "2    abdon-prats    Abdón Prats     RCD Mallorca         Spain  17.12.1992   \n",
       "3     pablo-mari     Pablo Marí     RCD Mallorca         Spain  31.08.1993   \n",
       "4     ruben-pena     Rubén Peña  Real Valladolid         Spain  18.07.1991   \n",
       "\n",
       "   height  weight              position  games  victories    ...     rater2  \\\n",
       "0   177.0    72.0  Attacking Midfielder      1          0    ...       0.50   \n",
       "1   179.0    82.0          Right Winger      1          0    ...       0.75   \n",
       "2   181.0    79.0                   NaN      1          0    ...        NaN   \n",
       "3   191.0    87.0           Center Back      1          1    ...        NaN   \n",
       "4   172.0    70.0      Right Midfielder      1          1    ...        NaN   \n",
       "\n",
       "   refNum  refCountry  Alpha_3   meanIAT    nIAT     seIAT   meanExp    nExp  \\\n",
       "0       1           1      GRC  0.326391   712.0  0.000564  0.396000   750.0   \n",
       "1       2           2      ZMB  0.203375    40.0  0.010875 -0.204082    49.0   \n",
       "2       3           3      ESP  0.369894  1785.0  0.000229  0.588297  1897.0   \n",
       "3       3           3      ESP  0.369894  1785.0  0.000229  0.588297  1897.0   \n",
       "4       3           3      ESP  0.369894  1785.0  0.000229  0.588297  1897.0   \n",
       "\n",
       "      seExp  \n",
       "0  0.002696  \n",
       "1  0.061504  \n",
       "2  0.001002  \n",
       "3  0.001002  \n",
       "4  0.001002  \n",
       "\n",
       "[5 rows x 28 columns]"
      ]
     },
     "execution_count": 5,
     "metadata": {},
     "output_type": "execute_result"
    }
   ],
   "source": [
    "df.head()"
   ]
  },
  {
   "cell_type": "code",
   "execution_count": 6,
   "metadata": {},
   "outputs": [],
   "source": [
    "df = df.dropna(subset=['rater1','rater2','position','leagueCountry'])"
   ]
  },
  {
   "cell_type": "code",
   "execution_count": 7,
   "metadata": {},
   "outputs": [
    {
     "data": {
      "text/plain": [
       "47"
      ]
     },
     "execution_count": 7,
     "metadata": {},
     "output_type": "execute_result"
    }
   ],
   "source": [
    "df.games.unique().max()"
   ]
  },
  {
   "cell_type": "code",
   "execution_count": 8,
   "metadata": {},
   "outputs": [
    {
     "data": {
      "image/png": "[encoded data removed]",
      "text/plain": [
       "<Figure size 432x288 with 1 Axes>"
      ]
     },
     "metadata": {},
     "output_type": "display_data"
    }
   ],
   "source": [
    "axs = df.hist(column='games', log=True, bins=range(1,49))"
   ]
  },
  {
   "cell_type": "markdown",
   "metadata": {},
   "source": [
    "## One Game Dyads\n",
    "\n",
    "From the plot above, we can control for referee biases or histories with particular players by selecting only player-referee interactions of just one game. \n",
    "\n"
   ]
  },
  {
   "cell_type": "code",
   "execution_count": 9,
   "metadata": {},
   "outputs": [],
   "source": [
    "data = df[df.games == 1].groupby(['rater1','rater2']).player.count()"
   ]
  },
  {
   "cell_type": "code",
   "execution_count": 10,
   "metadata": {},
   "outputs": [
    {
     "data": {
      "text/html": [
       "<div>\n",
       "<style scoped>\n",
       "    .dataframe tbody tr th:only-of-type {\n",
       "        vertical-align: middle;\n",
       "    }\n",
       "\n",
       "    .dataframe tbody tr th {\n",
       "        vertical-align: top;\n",
       "    }\n",
       "\n",
       "    .dataframe thead th {\n",
       "        text-align: right;\n",
       "    }\n",
       "</style>\n",
       "<table border=\"1\" class=\"dataframe\">\n",
       "  <thead>\n",
       "    <tr style=\"text-align: right;\">\n",
       "      <th>rater1</th>\n",
       "      <th>0.0</th>\n",
       "      <th>0.25</th>\n",
       "      <th>0.5</th>\n",
       "      <th>0.75</th>\n",
       "      <th>1.0</th>\n",
       "    </tr>\n",
       "    <tr>\n",
       "      <th>rater2</th>\n",
       "      <th></th>\n",
       "      <th></th>\n",
       "      <th></th>\n",
       "      <th></th>\n",
       "      <th></th>\n",
       "    </tr>\n",
       "  </thead>\n",
       "  <tbody>\n",
       "    <tr>\n",
       "      <th>0.00</th>\n",
       "      <td>16317.0</td>\n",
       "      <td>944.0</td>\n",
       "      <td>NaN</td>\n",
       "      <td>NaN</td>\n",
       "      <td>NaN</td>\n",
       "    </tr>\n",
       "    <tr>\n",
       "      <th>0.25</th>\n",
       "      <td>7611.0</td>\n",
       "      <td>17325.0</td>\n",
       "      <td>954.0</td>\n",
       "      <td>NaN</td>\n",
       "      <td>NaN</td>\n",
       "    </tr>\n",
       "    <tr>\n",
       "      <th>0.50</th>\n",
       "      <td>98.0</td>\n",
       "      <td>1622.0</td>\n",
       "      <td>4333.0</td>\n",
       "      <td>64.0</td>\n",
       "      <td>NaN</td>\n",
       "    </tr>\n",
       "    <tr>\n",
       "      <th>0.75</th>\n",
       "      <td>NaN</td>\n",
       "      <td>NaN</td>\n",
       "      <td>1085.0</td>\n",
       "      <td>3352.0</td>\n",
       "      <td>277.0</td>\n",
       "    </tr>\n",
       "    <tr>\n",
       "      <th>1.00</th>\n",
       "      <td>NaN</td>\n",
       "      <td>NaN</td>\n",
       "      <td>NaN</td>\n",
       "      <td>997.0</td>\n",
       "      <td>3546.0</td>\n",
       "    </tr>\n",
       "  </tbody>\n",
       "</table>\n",
       "</div>"
      ],
      "text/plain": [
       "rater1     0.00     0.25    0.50    0.75    1.00\n",
       "rater2                                          \n",
       "0.00    16317.0    944.0     NaN     NaN     NaN\n",
       "0.25     7611.0  17325.0   954.0     NaN     NaN\n",
       "0.50       98.0   1622.0  4333.0    64.0     NaN\n",
       "0.75        NaN      NaN  1085.0  3352.0   277.0\n",
       "1.00        NaN      NaN     NaN   997.0  3546.0"
      ]
     },
     "execution_count": 10,
     "metadata": {},
     "output_type": "execute_result"
    }
   ],
   "source": [
    "data.unstack(level=0)"
   ]
  },
  {
   "cell_type": "code",
   "execution_count": 11,
   "metadata": {},
   "outputs": [
    {
     "data": {
      "text/plain": [
       "<matplotlib.axes._subplots.AxesSubplot at 0x116774a90>"
      ]
     },
     "execution_count": 11,
     "metadata": {},
     "output_type": "execute_result"
    },
    {
     "data": {
      "image/png": "[encoded data removed]",
      "text/plain": [
       "<Figure size 432x288 with 2 Axes>"
      ]
     },
     "metadata": {},
     "output_type": "display_data"
    }
   ],
   "source": [
    "sns.heatmap(data.unstack())"
   ]
  },
  {
   "cell_type": "code",
   "execution_count": 16,
   "metadata": {},
   "outputs": [],
   "source": [
    "# we could consider only games that are ties, but this might not be a good idea.\n",
    "\n",
    "# data = df[(df.games == 1) & (df.ties==1)].groupby(['rater1','rater2']).player.count()"
   ]
  },
  {
   "cell_type": "markdown",
   "metadata": {},
   "source": [
    "## Subselect\n",
    "\n",
    "Out of this group, I'm going to choose the extremes and create two cohorts: players with both rater's giving them either a skin tone of 0 or skin tone of 1. \n",
    "\n",
    "There are significantly more white players than black players, so I should select all of the black players and then randomly select the white players such that various factors, such as leagueCountry and position can be controled. \n",
    "\n",
    "So, to \"control\" using a quota strategy, I randomly sample (without replacement) from the white player cohort such that the total number of white players from each factor does not exceed the total number of black players with that specific characteristic.\n",
    "\n",
    "I'm going to ignore wins/losses/ties for now. Although I may consider using those to control as well because the nature of play varies when a team is winning or losing. On the other hand, issuing a red card would influence the game such that there is an increased likelihood of losing. So, due to this feedback loop, perhaps it's something to ignore. "
   ]
  },
  {
   "cell_type": "code",
   "execution_count": 12,
   "metadata": {},
   "outputs": [],
   "source": [
    "df['rater_tuple'] = df.apply(lambda x: (x.rater1,x.rater2), axis=1)"
   ]
  },
  {
   "cell_type": "code",
   "execution_count": 13,
   "metadata": {},
   "outputs": [],
   "source": [
    "#expand the allowed values to identify the extreme groups\n",
    "\n",
    "#I am defining the 'white'/'black' group to any player that recieves the following pair of ratings\n",
    "whitetuples = [(0.0, 0.0), (0.25, 0.0), (0.0, 0.25), (0.25, 0.25)]\n",
    "blacktuples = [(1.0, 1.0), (0.75, 1.0), (1.0, 0.75), (0.75, 0.75)]\n",
    "\n",
    "#a more restrictive selection would be \n",
    "#whitetuples = [(0.0, 0.0)]\n",
    "#blacktuples = [(1.0, 1.0)]"
   ]
  },
  {
   "cell_type": "code",
   "execution_count": 14,
   "metadata": {},
   "outputs": [],
   "source": [
    "#Excluding the Goalkeeper since the keeper rarely recieves a red card\n",
    "\n",
    "df_white = df[(df.games == 1) & (df.rater_tuple.isin(whitetuples)) & (df.position != 'Goalkeeper')]\n",
    "df_black = df[(df.games == 1) & (df.rater_tuple.isin(blacktuples)) & (df.position != 'Goalkeeper')]"
   ]
  },
  {
   "cell_type": "markdown",
   "metadata": {},
   "source": [
    "## Match Samples\n",
    "\n",
    "There are significantly more white players than black players. So I am going to take a subsample of `white` players from the entire population. I am going to control for the `leagueCountry` and `position` as well. To do this, I count the number of `black` players by `leagueCountry` and `position`. I then randomly sample from the `white` players such that I do not exceed the counts of `leagueCountry` and `position` found in the `black` player population.\n",
    "\n",
    "NB: I could consider controlling for other variables using this quota-like sampling method."
   ]
  },
  {
   "cell_type": "code",
   "execution_count": 15,
   "metadata": {},
   "outputs": [
    {
     "data": {
      "text/plain": [
       "Center Forward          1910\n",
       "Defensive Midfielder    1429\n",
       "Center Back             1171\n",
       "Left Fullback            691\n",
       "Right Winger             691\n",
       "Right Fullback           576\n",
       "Left Winger              520\n",
       "Left Midfielder          403\n",
       "Attacking Midfielder     227\n",
       "Center Midfielder        210\n",
       "Right Midfielder         151\n",
       "Name: position, dtype: int64"
      ]
     },
     "execution_count": 15,
     "metadata": {},
     "output_type": "execute_result"
    }
   ],
   "source": [
    "df_black.position.value_counts()"
   ]
  },
  {
   "cell_type": "code",
   "execution_count": 16,
   "metadata": {},
   "outputs": [
    {
     "data": {
      "text/plain": [
       "Center Back             7899\n",
       "Center Forward          5186\n",
       "Defensive Midfielder    4874\n",
       "Attacking Midfielder    4417\n",
       "Left Fullback           2986\n",
       "Right Fullback          2709\n",
       "Left Midfielder         2265\n",
       "Center Midfielder       2058\n",
       "Right Midfielder        1798\n",
       "Left Winger             1368\n",
       "Right Winger            1342\n",
       "Name: position, dtype: int64"
      ]
     },
     "execution_count": 16,
     "metadata": {},
     "output_type": "execute_result"
    }
   ],
   "source": [
    "df_white.position.value_counts()"
   ]
  },
  {
   "cell_type": "code",
   "execution_count": 17,
   "metadata": {},
   "outputs": [
    {
     "data": {
      "text/plain": [
       "{'England': 3037, 'France': 2328, 'Germany': 1618, 'Spain': 996}"
      ]
     },
     "execution_count": 17,
     "metadata": {},
     "output_type": "execute_result"
    }
   ],
   "source": [
    "df_black.leagueCountry.value_counts().to_dict()"
   ]
  },
  {
   "cell_type": "code",
   "execution_count": 18,
   "metadata": {},
   "outputs": [
    {
     "data": {
      "text/plain": [
       "{'Germany': 15383, 'England': 9145, 'Spain': 8606, 'France': 3768}"
      ]
     },
     "execution_count": 18,
     "metadata": {},
     "output_type": "execute_result"
    }
   ],
   "source": [
    "df_white.leagueCountry.value_counts().to_dict()"
   ]
  },
  {
   "cell_type": "code",
   "execution_count": 19,
   "metadata": {},
   "outputs": [],
   "source": [
    "def checkQuota(dframe, newrow, limits):\n",
    "    ##there's probably a much faster way to do this\n",
    "    for colsToLimit,currentLimits in limits.items():\n",
    "        #example --> leagueCountry : {germany:val, england:val, ..}\n",
    "        #these are the current value counts for each of the unique values in the limiting column\n",
    "        #print(colsToLimit)\n",
    "        #print(currentLimits)\n",
    "        \n",
    "        currentVals = dframe[colsToLimit].value_counts().to_dict()\n",
    "        #currentVals = {germany:curval, england:curval, ...}\n",
    "        \n",
    "        #print(currentVals)\n",
    "        newrowvalue = getattr(newrow, colsToLimit)\n",
    "        #newrowvalue is \"germany\" for example\n",
    "        \n",
    "        #if we add this value to our current data frame, will we go over the limit?\n",
    "        if currentVals.get(newrowvalue,0) + 1 > currentLimits[newrowvalue]:\n",
    "            return False\n",
    "    \n",
    "    return True\n",
    "        \n",
    "def getControlLimits(df, colnames):\n",
    "    quotaLimits = {}\n",
    "    for col in colnames:\n",
    "        quotaLimits[col]  = df[col].value_counts().to_dict()\n",
    "    \n",
    "    return quotaLimits\n",
    "\n",
    "def createSample(samplefrom_df, matching_df, limitByColumns = ['leagueCountry', 'position'], subsample_df = None):\n",
    "\n",
    "    #let's shuffle the order of the samplefrom_df\n",
    "    samplefrom_df = samplefrom_df.sample(frac=1).reset_index(drop=True)\n",
    "\n",
    "    quotaLimits = getControlLimits(matching_df, limitByColumns)\n",
    " \n",
    "    if subsample_df is None:\n",
    "        subsample_df = pd.DataFrame(columns = samplefrom_df.columns)\n",
    "        playerShortList = []\n",
    "        \n",
    "    else:\n",
    "        playerShortList = subsample_df['playerShort'].values\n",
    "    \n",
    "    for row in samplefrom_df.itertuples():\n",
    "    \n",
    "        #need to check if okay to add\n",
    "        #row is okay to add IF the \n",
    "        if checkQuota(subsample_df, row, quotaLimits):\n",
    "            if getattr(row, 'playerShort') not in playerShortList:\n",
    "                #print('appending row...')\n",
    "                subsample_df = subsample_df.append(pd.DataFrame([row[1:]],columns=samplefrom_df.columns.tolist()))\n",
    "\n",
    "    return subsample_df"
   ]
  },
  {
   "cell_type": "code",
   "execution_count": 20,
   "metadata": {},
   "outputs": [
    {
     "data": {
      "text/plain": [
       "{'leagueCountry': {'England': 3037,\n",
       "  'France': 2328,\n",
       "  'Germany': 1618,\n",
       "  'Spain': 996},\n",
       " 'position': {'Center Forward': 1910,\n",
       "  'Defensive Midfielder': 1429,\n",
       "  'Center Back': 1171,\n",
       "  'Left Fullback': 691,\n",
       "  'Right Winger': 691,\n",
       "  'Right Fullback': 576,\n",
       "  'Left Winger': 520,\n",
       "  'Left Midfielder': 403,\n",
       "  'Attacking Midfielder': 227,\n",
       "  'Center Midfielder': 210,\n",
       "  'Right Midfielder': 151}}"
      ]
     },
     "execution_count": 20,
     "metadata": {},
     "output_type": "execute_result"
    }
   ],
   "source": [
    "colsToControl = ['leagueCountry', 'position']\n",
    "\n",
    "\n",
    "getControlLimits(df_black, colsToControl)"
   ]
  },
  {
   "cell_type": "code",
   "execution_count": 33,
   "metadata": {},
   "outputs": [
    {
     "name": "stdout",
     "output_type": "stream",
     "text": [
      "White Control List\n",
      "{'leagueCountry': {'England': 3037, 'France': 1813, 'Germany': 1618, 'Spain': 996}, 'position': {'Center Forward': 1656, 'Defensive Midfielder': 1398, 'Center Back': 1171, 'Left Fullback': 691, 'Right Fullback': 576, 'Left Winger': 510, 'Right Winger': 471, 'Left Midfielder': 403, 'Attacking Midfielder': 227, 'Center Midfielder': 210, 'Right Midfielder': 151}}\n",
      "Black Control List\n",
      "{'leagueCountry': {'England': 2858, 'France': 1813, 'Germany': 1506, 'Spain': 942}, 'position': {'Center Forward': 1656, 'Defensive Midfielder': 1320, 'Center Back': 1089, 'Left Fullback': 658, 'Right Fullback': 518, 'Left Winger': 479, 'Right Winger': 471, 'Left Midfielder': 382, 'Center Midfielder': 210, 'Attacking Midfielder': 190, 'Right Midfielder': 146}}\n",
      "White Control List\n",
      "{'leagueCountry': {'England': 2858, 'France': 1723, 'Germany': 1506, 'Spain': 942}, 'position': {'Center Forward': 1586, 'Defensive Midfielder': 1320, 'Center Back': 1089, 'Left Fullback': 658, 'Right Fullback': 518, 'Left Winger': 479, 'Right Winger': 451, 'Left Midfielder': 382, 'Center Midfielder': 210, 'Attacking Midfielder': 190, 'Right Midfielder': 146}}\n",
      "Black Control List\n",
      "{'leagueCountry': {'England': 2812, 'France': 1723, 'Germany': 1466, 'Spain': 939}, 'position': {'Center Forward': 1586, 'Defensive Midfielder': 1310, 'Center Back': 1057, 'Left Fullback': 635, 'Right Fullback': 512, 'Left Winger': 479, 'Right Winger': 451, 'Left Midfielder': 381, 'Center Midfielder': 210, 'Attacking Midfielder': 174, 'Right Midfielder': 145}}\n"
     ]
    }
   ],
   "source": [
    "different = True\n",
    "\n",
    "df_black_sample = df_black\n",
    "df_white_sample = None\n",
    "count = 0\n",
    "while different and count < 2:\n",
    "    df_white_sample = createSample(df_white, df_black_sample, colsToControl)\n",
    "    wh_control_list = getControlLimits(df_white_sample, colsToControl)\n",
    "\n",
    "    df_black_sample = createSample(df_black, df_white_sample, colsToControl)\n",
    "    bl_control_list = getControlLimits(df_black_sample, colsToControl)\n",
    "\n",
    "    print(\"White Control List\")\n",
    "    print(wh_control_list)\n",
    "    print(\"Black Control List\")\n",
    "    print(bl_control_list)\n",
    "\n",
    "    # different = (wh_control_list != bl_control_list)\n",
    "    # print(\"Different = {}\".format(different))\n",
    "    \n",
    "    # only let this happen a maximum of 2 times. then we quit and take what we got\n",
    "    count += 1\n",
    "    "
   ]
  },
  {
   "cell_type": "code",
   "execution_count": 34,
   "metadata": {},
   "outputs": [
    {
     "data": {
      "text/plain": [
       "{'leagueCountry': {'England': 2858,\n",
       "  'France': 1723,\n",
       "  'Germany': 1506,\n",
       "  'Spain': 942},\n",
       " 'position': {'Center Forward': 1586,\n",
       "  'Defensive Midfielder': 1320,\n",
       "  'Center Back': 1089,\n",
       "  'Left Fullback': 658,\n",
       "  'Right Fullback': 518,\n",
       "  'Left Winger': 479,\n",
       "  'Right Winger': 451,\n",
       "  'Left Midfielder': 382,\n",
       "  'Center Midfielder': 210,\n",
       "  'Attacking Midfielder': 190,\n",
       "  'Right Midfielder': 146}}"
      ]
     },
     "execution_count": 34,
     "metadata": {},
     "output_type": "execute_result"
    }
   ],
   "source": [
    "getControlLimits(df_white_sample, colsToControl)"
   ]
  },
  {
   "cell_type": "code",
   "execution_count": 35,
   "metadata": {},
   "outputs": [
    {
     "data": {
      "text/plain": [
       "{'leagueCountry': {'England': 2812,\n",
       "  'France': 1723,\n",
       "  'Germany': 1466,\n",
       "  'Spain': 939},\n",
       " 'position': {'Center Forward': 1586,\n",
       "  'Defensive Midfielder': 1310,\n",
       "  'Center Back': 1057,\n",
       "  'Left Fullback': 635,\n",
       "  'Right Fullback': 512,\n",
       "  'Left Winger': 479,\n",
       "  'Right Winger': 451,\n",
       "  'Left Midfielder': 381,\n",
       "  'Center Midfielder': 210,\n",
       "  'Attacking Midfielder': 174,\n",
       "  'Right Midfielder': 145}}"
      ]
     },
     "execution_count": 35,
     "metadata": {},
     "output_type": "execute_result"
    }
   ],
   "source": [
    "getControlLimits(df_black_sample, colsToControl)"
   ]
  },
  {
   "cell_type": "code",
   "execution_count": 36,
   "metadata": {},
   "outputs": [
    {
     "name": "stdout",
     "output_type": "stream",
     "text": [
      "number of redCards black players: 32\n",
      "number of redCards white players: 19\n",
      "number of black players in sample: 6940\n",
      "number of white players in sample: 7029\n",
      "\n",
      "\n",
      "t: -1.8694173237059215\n",
      "p-value: 0.06158568476049414\n"
     ]
    }
   ],
   "source": [
    "def printstats(dfw, dfb, cardType='redCards'):\n",
    "    print('number of {} black players: {}'.format(cardType, dfb[cardType].sum()))\n",
    "    print('number of {} white players: {}'.format(cardType, dfw[cardType].sum()))\n",
    "    print('number of black players in sample: {}'.format(dfb[cardType].count()))\n",
    "    print('number of white players in sample: {}'.format(dfw[cardType].count()))\n",
    "    print('\\n')\n",
    "    tscore, pvalue = stats.ttest_ind(dfw[cardType].values,dfb[cardType].values)\n",
    "    print('t: {}'.format(tscore))\n",
    "    print('p-value: {}'.format(pvalue))\n",
    "    \n",
    "printstats(df_white_sample,df_black_sample)"
   ]
  },
  {
   "cell_type": "code",
   "execution_count": 37,
   "metadata": {},
   "outputs": [
    {
     "name": "stdout",
     "output_type": "stream",
     "text": [
      "number of yellowCards black players: 886\n",
      "number of yellowCards white players: 871\n",
      "number of black players in sample: 6940\n",
      "number of white players in sample: 7029\n",
      "\n",
      "\n",
      "t: -0.6683356606983769\n",
      "p-value: 0.5039303993699006\n"
     ]
    }
   ],
   "source": [
    "printstats(df_white_sample,df_black_sample,'yellowCards')"
   ]
  },
  {
   "cell_type": "code",
   "execution_count": 38,
   "metadata": {},
   "outputs": [
    {
     "name": "stdout",
     "output_type": "stream",
     "text": [
      "number of yellowReds black players: 32\n",
      "number of yellowReds white players: 35\n",
      "number of black players in sample: 6940\n",
      "number of white players in sample: 7029\n",
      "\n",
      "\n",
      "t: 0.31509896002684235\n",
      "p-value: 0.7526912253990913\n"
     ]
    }
   ],
   "source": [
    "printstats(df_white_sample,df_black_sample,'yellowReds')"
   ]
  },
  {
   "cell_type": "markdown",
   "metadata": {},
   "source": [
    "### Checking other population selections"
   ]
  },
  {
   "cell_type": "code",
   "execution_count": 39,
   "metadata": {},
   "outputs": [
    {
     "name": "stdout",
     "output_type": "stream",
     "text": [
      "number of redCards black players: 34\n",
      "number of redCards white players: 135\n",
      "number of black players in sample: 7979\n",
      "number of white players in sample: 36902\n",
      "\n",
      "\n",
      "t: -0.797215571465104\n",
      "p-value: 0.42533006167034904\n"
     ]
    }
   ],
   "source": [
    "#Not controlling for league country or player position\n",
    "printstats(df_white,df_black)"
   ]
  },
  {
   "cell_type": "code",
   "execution_count": 40,
   "metadata": {},
   "outputs": [
    {
     "name": "stdout",
     "output_type": "stream",
     "text": [
      "number of yellowCards black players: 1004\n",
      "number of yellowCards white players: 4776\n",
      "number of black players in sample: 7979\n",
      "number of white players in sample: 36902\n",
      "\n",
      "\n",
      "t: 0.8687744628767861\n",
      "p-value: 0.38497514945520817\n",
      "number of yellowReds black players: 41\n",
      "number of yellowReds white players: 148\n",
      "number of black players in sample: 7979\n",
      "number of white players in sample: 36902\n",
      "\n",
      "\n",
      "t: -1.410723922575043\n",
      "p-value: 0.15833296558930884\n"
     ]
    }
   ],
   "source": [
    "printstats(df_white,df_black,'yellowCards')\n",
    "printstats(df_white,df_black,'yellowReds')"
   ]
  },
  {
   "cell_type": "code",
   "execution_count": 41,
   "metadata": {},
   "outputs": [],
   "source": [
    "# I would conclude there is not a different in the rate of redCards issued to players depending on their skin tone. "
   ]
  },
  {
   "cell_type": "markdown",
   "metadata": {},
   "source": [
    "### Full Analysis\n",
    "\n",
    "The following cells contain all of the functions and cells above incoprorated in a way to re-run the analysis with various choices. \n",
    "\n"
   ]
  },
  {
   "cell_type": "code",
   "execution_count": 42,
   "metadata": {},
   "outputs": [],
   "source": [
    "whitetuples = [(0.0, 0.0), (0.25, 0.0), (0.0, 0.25), (0.25, 0.25)]\n",
    "blacktuples = [(1.0, 1.0), (0.75, 1.0), (1.0, 0.75), (0.75, 0.75)]\n",
    "colsToControl = ['position','leagueCountry']\n",
    "\n",
    "def runFull(datafile= 'redcard.csv', maxgames = 1):\n",
    "    df = pd.read_csv(datafile)\n",
    "    df = df.dropna(subset=['rater1','rater2','position','leagueCountry'])\n",
    "    df['rater_tuple'] = df.apply(lambda x: (x.rater1,x.rater2), axis=1)\n",
    "    \n",
    "    df_white = df[(df.games <= maxgames) & (df.rater_tuple.isin(whitetuples)) & (df.position != 'Goalkeeper')]\n",
    "    df_black = df[(df.games <= maxgames) & (df.rater_tuple.isin(blacktuples)) & (df.position != 'Goalkeeper')]\n",
    "\n",
    "    \n",
    "    #Create the subsamples\n",
    "    different = True\n",
    "    df_black_sample = df_black\n",
    "    df_white_sample = None\n",
    "    count = 0\n",
    "    \n",
    "    print(getControlLimits(df_black_sample, colsToControl))\n",
    "    \n",
    "    while different and count < 2:\n",
    "        df_white_sample = createSample(df_white, df_black_sample, colsToControl)\n",
    "        wh_control_list = getControlLimits(df_white_sample, colsToControl)\n",
    "\n",
    "        df_black_sample = createSample(df_black, df_white_sample, colsToControl)\n",
    "        bl_control_list = getControlLimits(df_black_sample, colsToControl)\n",
    "\n",
    "        print(\"White Control List\")\n",
    "        print(wh_control_list)\n",
    "        print(\"Black Control List\")\n",
    "        print(bl_control_list)\n",
    "\n",
    "        different = (wh_control_list != bl_control_list)\n",
    "        print(\"Different = {}\".format(different))\n",
    "\n",
    "        # only let this happen a maximum of 2 times. then we quit and take what we got\n",
    "        count += 1\n",
    "\n",
    "    \n",
    "    print(\"stats for ALL selected players\")\n",
    "    printstats(df_white,df_black,'yellowCards')\n",
    "    printstats(df_white,df_black,'yellowReds')\n",
    "    printstats(df_white,df_black,'redCards')\n",
    "    \n",
    "    print(\"stats for subsample of selected players\")\n",
    "    printstats(df_white_sample,df_black_sample,'yellowCards')\n",
    "    printstats(df_white_sample,df_black_sample,'yellowReds')\n",
    "    printstats(df_white_sample,df_black_sample,'redCards')\n",
    "\n",
    "    "
   ]
  },
  {
   "cell_type": "code",
   "execution_count": 43,
   "metadata": {},
   "outputs": [
    {
     "name": "stdout",
     "output_type": "stream",
     "text": [
      "{'position': {'Center Forward': 3238, 'Defensive Midfielder': 2427, 'Center Back': 2017, 'Left Fullback': 1152, 'Right Winger': 1113, 'Right Fullback': 1010, 'Left Winger': 876, 'Left Midfielder': 651, 'Attacking Midfielder': 373, 'Center Midfielder': 336, 'Right Midfielder': 262}, 'leagueCountry': {'England': 5095, 'France': 3893, 'Germany': 2647, 'Spain': 1820}}\n",
      "White Control List\n",
      "{'position': {'Center Forward': 2905, 'Defensive Midfielder': 2372, 'Center Back': 2017, 'Left Fullback': 1152, 'Right Fullback': 1010, 'Right Winger': 880, 'Left Winger': 873, 'Left Midfielder': 651, 'Attacking Midfielder': 373, 'Center Midfielder': 336, 'Right Midfielder': 262}, 'leagueCountry': {'England': 5095, 'France': 3269, 'Germany': 2647, 'Spain': 1820}}\n",
      "Black Control List\n",
      "{'position': {'Center Forward': 2905, 'Defensive Midfielder': 2287, 'Center Back': 1915, 'Left Fullback': 1119, 'Right Fullback': 932, 'Right Winger': 880, 'Left Winger': 823, 'Left Midfielder': 632, 'Center Midfielder': 336, 'Attacking Midfielder': 325, 'Right Midfielder': 253}, 'leagueCountry': {'England': 4864, 'France': 3269, 'Germany': 2514, 'Spain': 1760}}\n",
      "Different = True\n",
      "White Control List\n",
      "{'position': {'Center Forward': 2868, 'Defensive Midfielder': 2287, 'Center Back': 1915, 'Left Fullback': 1119, 'Right Fullback': 932, 'Left Winger': 823, 'Right Winger': 817, 'Left Midfielder': 632, 'Center Midfielder': 336, 'Attacking Midfielder': 325, 'Right Midfielder': 253}, 'leagueCountry': {'England': 4864, 'France': 3169, 'Germany': 2514, 'Spain': 1760}}\n",
      "Black Control List\n",
      "{'position': {'Center Forward': 2868, 'Defensive Midfielder': 2275, 'Center Back': 1896, 'Left Fullback': 1089, 'Right Fullback': 918, 'Left Winger': 820, 'Right Winger': 817, 'Left Midfielder': 622, 'Center Midfielder': 336, 'Attacking Midfielder': 321, 'Right Midfielder': 253}, 'leagueCountry': {'England': 4808, 'France': 3169, 'Germany': 2494, 'Spain': 1744}}\n",
      "Different = True\n",
      "stats for ALL selected players\n",
      "number of yellowCards black players: 3132\n",
      "number of yellowCards white players: 15687\n",
      "number of black players in sample: 13455\n",
      "number of white players in sample: 62487\n",
      "\n",
      "\n",
      "t: 3.7718603232418606\n",
      "p-value: 0.00016215780000389216\n",
      "number of yellowReds black players: 112\n",
      "number of yellowReds white players: 507\n",
      "number of black players in sample: 13455\n",
      "number of white players in sample: 62487\n",
      "\n",
      "\n",
      "t: -0.24457136173356717\n",
      "p-value: 0.8067890015195481\n",
      "number of redCards black players: 123\n",
      "number of redCards white players: 437\n",
      "number of black players in sample: 13455\n",
      "number of white players in sample: 62487\n",
      "\n",
      "\n",
      "t: -2.623138275989462\n",
      "p-value: 0.008714130943556376\n",
      "stats for subsample of selected players\n",
      "number of yellowCards black players: 2884\n",
      "number of yellowCards white players: 3013\n",
      "number of black players in sample: 12215\n",
      "number of white players in sample: 12307\n",
      "\n",
      "\n",
      "t: 1.3629607094252565\n",
      "p-value: 0.17290740968002966\n",
      "number of yellowReds black players: 103\n",
      "number of yellowReds white players: 79\n",
      "number of black players in sample: 12215\n",
      "number of white players in sample: 12307\n",
      "\n",
      "\n",
      "t: -1.8365039675739154\n",
      "p-value: 0.0662952541874993\n",
      "number of redCards black players: 107\n",
      "number of redCards white players: 88\n",
      "number of black players in sample: 12215\n",
      "number of white players in sample: 12307\n",
      "\n",
      "\n",
      "t: -1.4042259326234334\n",
      "p-value: 0.1602642478947751\n"
     ]
    }
   ],
   "source": [
    "#Easing up on the number of player-referee games to allow for up to 5 games between the players/referees. \n",
    "#This should increase the statistics a bit and may be small enough still to avoid strong bias and histories.\n",
    "\n",
    "runFull(maxgames=5)"
   ]
  },
  {
   "cell_type": "code",
   "execution_count": null,
   "metadata": {},
   "outputs": [],
   "source": []
  },
  {
   "cell_type": "code",
   "execution_count": null,
   "metadata": {},
   "outputs": [],
   "source": []
  }
 ],
 "metadata": {
  "kernelspec": {
   "display_name": "Python 3",
   "language": "python",
   "name": "python3"
  },
  "language_info": {
   "codemirror_mode": {
    "name": "ipython",
    "version": 3
   },
   "file_extension": ".py",
   "mimetype": "text/x-python",
   "name": "python",
   "nbconvert_exporter": "python",
   "pygments_lexer": "ipython3",
   "version": "3.6.5"
  }
 },
 "nbformat": 4,
 "nbformat_minor": 2
}
